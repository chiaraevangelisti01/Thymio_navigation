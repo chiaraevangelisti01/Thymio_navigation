{
 "cells": [
  {
   "cell_type": "code",
   "execution_count": null,
   "metadata": {},
   "outputs": [
    {
     "ename": "",
     "evalue": "",
     "output_type": "error",
     "traceback": [
      "\u001b[1;31mRunning cells with 'BMR' requires the ipykernel package.\n",
      "\u001b[1;31mRun the following command to install 'ipykernel' into the Python environment. \n",
      "\u001b[1;31mCommand: 'conda install -n BMR ipykernel --update-deps --force-reinstall'"
     ]
    }
   ],
   "source": [
    "import pyvisgraph as vg\n",
    "import math\n",
    "import geopandas as gpd\n",
    "from geopandas import GeoSeries\n",
    "from shapely.geometry import Polygon, Point, LineString\n",
    "import matplotlib.pyplot as plt\n",
    "import numpy as np\n",
    "from scipy.interpolate import CubicSpline, make_interp_spline, make_smoothing_spline, splrep\n",
    "import thymio\n",
    "import controller as control\n",
    "import time\n",
    "from IPython.display import clear_output\n",
    "\n",
    "\n",
    "#Define the obstacles\n",
    "O1 = [(3,8),(5,5),(8,7),(6,10)]\n",
    "O2 = [(20,5),(23,7),(28,7),(24,2)]\n",
    "O3 = [(18,9),(16,12),(21,15),(23,11)]\n",
    "O4 = [(32,12),(34,15),(40,14),(37,11)]\n",
    "obstacles = [O1,O2,O3,O4]\n",
    "\n",
    "#Create the polygons as objects and plot them using Geoseries\n",
    "pol= []\n",
    "for ob in obstacles:\n",
    "    pol.append(Polygon(ob))\n",
    "env = GeoSeries(pol)\n",
    "GeoSeries.plot(env)\n",
    "\n",
    "#Enlarge the polygons and plot them again (bla)\n",
    "margin = 1\n",
    "env_dilated = env.buffer(margin,join_style = 2)\n",
    "GeoSeries.plot(env_dilated)\n",
    "\n"
   ]
  },
  {
   "cell_type": "code",
   "execution_count": null,
   "metadata": {},
   "outputs": [
    {
     "ename": "",
     "evalue": "",
     "output_type": "error",
     "traceback": [
      "\u001b[1;31mRunning cells with 'BMR' requires the ipykernel package.\n",
      "\u001b[1;31mRun the following command to install 'ipykernel' into the Python environment. \n",
      "\u001b[1;31mCommand: 'conda install -n BMR ipykernel --update-deps --force-reinstall'"
     ]
    }
   ],
   "source": [
    "#Convert the dilated polygons in a format suitable for visibility graph  -> VS points\n",
    "pol_for_vg = []\n",
    "for poly in env_dilated:\n",
    "        x, y = poly.exterior.coords.xy #gets coordinates of the vertices \n",
    "        polygon_vg = []\n",
    "        for i in range(len(x)):\n",
    "            polygon_vg.append(vg.Point(x[i],y[i]))\n",
    "        pol_for_vg.append(polygon_vg)\n",
    "\n",
    "#Create the visibility graph\n",
    "graph = vg.VisGraph()\n",
    "graph.build(pol_for_vg)"
   ]
  },
  {
   "cell_type": "code",
   "execution_count": null,
   "metadata": {},
   "outputs": [
    {
     "ename": "",
     "evalue": "",
     "output_type": "error",
     "traceback": [
      "\u001b[1;31mRunning cells with 'BMR' requires the ipykernel package.\n",
      "\u001b[1;31mRun the following command to install 'ipykernel' into the Python environment. \n",
      "\u001b[1;31mCommand: 'conda install -n BMR ipykernel --update-deps --force-reinstall'"
     ]
    }
   ],
   "source": [
    "#Define start and end and convertem to format suitable for the vg.graph --> MAYBE IT COULD BE USEFUL TO IMPLEMENT A FUNCTION DOING THESE CONVERSIONS\n",
    "\n",
    "start = vg.Point(1,15)\n",
    "end = vg.Point(37,2)\n",
    "\n",
    "#Find the shortest path-> gives back the set of corner through which one must pass\n",
    "shortest_path  = graph.shortest_path(start,end)\n",
    "\n",
    "print(shortest_path)\n",
    "\n",
    "\n"
   ]
  },
  {
   "cell_type": "code",
   "execution_count": null,
   "metadata": {},
   "outputs": [
    {
     "ename": "",
     "evalue": "",
     "output_type": "error",
     "traceback": [
      "\u001b[1;31mRunning cells with 'BMR' requires the ipykernel package.\n",
      "\u001b[1;31mRun the following command to install 'ipykernel' into the Python environment. \n",
      "\u001b[1;31mCommand: 'conda install -n BMR ipykernel --update-deps --force-reinstall'"
     ]
    }
   ],
   "source": [
    "#Convert the path found in a list of points suitable for geoseries\n",
    "path_gs = []\n",
    "path_tuples = []\n",
    "for el in shortest_path:\n",
    "    path_gs.append(Point(el.x,el.y))\n",
    "    path_tuples.append((el.x,el.y))\n",
    "path_tuples = np.array(path_tuples)\n",
    "\n",
    "\n",
    "\n",
    "#Get the dilated polygons into a list recreate the environent\n",
    "polygon_dilated_for_gs = []\n",
    "for poly in env_dilated:\n",
    "    polygon_dilated_for_gs.append(poly)\n",
    "\n",
    "#Add the path to the new geometry and create the environemnt\n",
    "polygon_dilated_for_gs.append(LineString(path_gs))\n",
    "unsmoothed_path = GeoSeries(LineString(path_gs))\n",
    "geom_fin = polygon_dilated_for_gs\n",
    "env_final = GeoSeries(geom_fin)\n",
    "\n",
    "#Plot the final environment\n",
    "GeoSeries.plot(env_final)\n"
   ]
  },
  {
   "cell_type": "code",
   "execution_count": null,
   "metadata": {},
   "outputs": [
    {
     "ename": "",
     "evalue": "",
     "output_type": "error",
     "traceback": [
      "\u001b[1;31mRunning cells with 'BMR' requires the ipykernel package.\n",
      "\u001b[1;31mRun the following command to install 'ipykernel' into the Python environment. \n",
      "\u001b[1;31mCommand: 'conda install -n BMR ipykernel --update-deps --force-reinstall'"
     ]
    }
   ],
   "source": [
    "#Calculate the distance: since they are straight line, the path lenght can be found through Pytagorean theorem between the points identified\n",
    "distance = 0\n",
    "for i in range(len(path_gs)-1):\n",
    "    distance += np.sqrt((path_gs[i].x-path_gs[i+1].x)**2+(path_gs[i].y-path_gs[i+1].y)**2)\n",
    "\n",
    "print(f\"The shortest path has length {distance:.2f}\")\n",
    "\n"
   ]
  },
  {
   "cell_type": "code",
   "execution_count": null,
   "metadata": {},
   "outputs": [
    {
     "ename": "",
     "evalue": "",
     "output_type": "error",
     "traceback": [
      "\u001b[1;31mRunning cells with 'BMR' requires the ipykernel package.\n",
      "\u001b[1;31mRun the following command to install 'ipykernel' into the Python environment. \n",
      "\u001b[1;31mCommand: 'conda install -n BMR ipykernel --update-deps --force-reinstall'"
     ]
    }
   ],
   "source": [
    "#Smoothen the path\n",
    "\n",
    "# Generate a finer set of points for a smoother curve\n",
    "x_points = np.array(path_tuples[:,0])\n",
    "x_finer = np.linspace(x_points[0], x_points[-1], 30)  # Adjust the number of points as needed\n",
    "\n",
    "\n",
    "# Create a cubic spline interpolation on the finer set of points\n",
    "cs = CubicSpline(path_tuples[:,0], path_tuples[:,1])\n",
    "spline_interp = make_interp_spline(path_tuples[:,0], path_tuples[:,1])\n",
    "spline_smooth = make_smoothing_spline(path_tuples[:,0], path_tuples[:,1]) # We are going to use this one because it is closer to the optimal path\n",
    "\n",
    "# Obtain the corresponding y-coordinates on the smoothed curve\n",
    "y_finer_cubic = cs(x_finer)\n",
    "y_finer_interp = spline_interp(x_finer)\n",
    "y_finer_smooth = spline_smooth(x_finer)\n",
    "path = np.matrix.transpose(np.array([x_finer,y_finer_smooth]))\n",
    "print(np.shape(path))\n",
    "print(path)\n",
    "\n",
    "smooth_path = []\n",
    "#get back to gs format\n",
    "smooth_path = gpd.points_from_xy(x_finer, y_finer_cubic)\n",
    "\n",
    "\n",
    "new_path_gs = GeoSeries(smooth_path)\n",
    "ax1 = GeoSeries.plot(new_path_gs)\n",
    "ax2 = GeoSeries.plot(env_dilated,color='red')\n",
    "GeoSeries.plot(env,color='blue',ax=ax2)\n",
    "GeoSeries.plot(unsmoothed_path,color='black',ax=ax2)\n",
    "#plt.plot(x_finer,y_finer_cubic,color='green')\n",
    "plt.plot(x_finer,y_finer_interp,1,color='purple')\n",
    "plt.plot(x_finer,y_finer_smooth,color='orange')\n",
    "plt.show()"
   ]
  },
  {
   "cell_type": "code",
   "execution_count": null,
   "metadata": {},
   "outputs": [
    {
     "ename": "",
     "evalue": "",
     "output_type": "error",
     "traceback": [
      "\u001b[1;31mRunning cells with 'BMR' requires the ipykernel package.\n",
      "\u001b[1;31mRun the following command to install 'ipykernel' into the Python environment. \n",
      "\u001b[1;31mCommand: 'conda install -n BMR ipykernel --update-deps --force-reinstall'"
     ]
    }
   ],
   "source": [
    "# Start asynchronous communication with Thymio\n",
    "from tdmclient import ClientAsync, aw\n",
    "client = ClientAsync()            # Create client object\n",
    "client.process_waiting_messages() # Ensure connection to TDM (Thymio Device Manager)\n",
    "node = aw(client.wait_for_node()) # Ensure connection with Thymio robot (node)\n",
    "aw(node.lock())                   # Lock robot to change variables and run programs"
   ]
  },
  {
   "cell_type": "code",
   "execution_count": null,
   "metadata": {},
   "outputs": [
    {
     "ename": "",
     "evalue": "",
     "output_type": "error",
     "traceback": [
      "\u001b[1;31mRunning cells with 'BMR' requires the ipykernel package.\n",
      "\u001b[1;31mRun the following command to install 'ipykernel' into the Python environment. \n",
      "\u001b[1;31mCommand: 'conda install -n BMR ipykernel --update-deps --force-reinstall'"
     ]
    }
   ],
   "source": [
    "# # Check if motors are working\n",
    "# thymioMaxSpeed = 500\n",
    "# thymio.set_motor_speed(50,50,node)\n",
    "# aw(client.sleep(1.0))\n",
    "# thymio.stop_motor(node)\n",
    "# thymio.set_motor_speed(thymioMaxSpeed,thymioMaxSpeed,node)\n",
    "# motorLeftSpeed = 0\n",
    "# motorRightSpeed = 0\n",
    "# while motorLeftSpeed != thymioMaxSpeed and motorRightSpeed != thymioMaxSpeed:\n",
    "#     [motorLeftSpeed, motorRightSpeed] = thymio.get_motor_speed(node,client)\n",
    "#     print(\"\\nMotor Left Speed: \",flush=True)\n",
    "#     print(motorLeftSpeed,flush=True)\n",
    "#     print(\"\\nMotor Right Speed: \",flush=True)\n",
    "#     print(motorRightSpeed,flush=True)\n",
    "#     clear_output(wait=True)\n",
    "    \n",
    "# thymio.stop_motor(node)"
   ]
  },
  {
   "cell_type": "code",
   "execution_count": null,
   "metadata": {},
   "outputs": [
    {
     "ename": "",
     "evalue": "",
     "output_type": "error",
     "traceback": [
      "\u001b[1;31mRunning cells with 'BMR' requires the ipykernel package.\n",
      "\u001b[1;31mRun the following command to install 'ipykernel' into the Python environment. \n",
      "\u001b[1;31mCommand: 'conda install -n BMR ipykernel --update-deps --force-reinstall'"
     ]
    }
   ],
   "source": [
    "# thymio.stop_motor(node)"
   ]
  },
  {
   "cell_type": "code",
   "execution_count": null,
   "metadata": {},
   "outputs": [
    {
     "ename": "",
     "evalue": "",
     "output_type": "error",
     "traceback": [
      "\u001b[1;31mRunning cells with 'BMR' requires the ipykernel package.\n",
      "\u001b[1;31mRun the following command to install 'ipykernel' into the Python environment. \n",
      "\u001b[1;31mCommand: 'conda install -n BMR ipykernel --update-deps --force-reinstall'"
     ]
    }
   ],
   "source": [
    "# # Check Proximity Sensors\n",
    "# prox = thymio.get_distances(node,client)\n",
    "# print(prox)"
   ]
  },
  {
   "cell_type": "code",
   "execution_count": null,
   "metadata": {},
   "outputs": [
    {
     "ename": "",
     "evalue": "",
     "output_type": "error",
     "traceback": [
      "\u001b[1;31mRunning cells with 'BMR' requires the ipykernel package.\n",
      "\u001b[1;31mRun the following command to install 'ipykernel' into the Python environment. \n",
      "\u001b[1;31mCommand: 'conda install -n BMR ipykernel --update-deps --force-reinstall'"
     ]
    }
   ],
   "source": [
    "# # Unlock the Robot (ALWAYS RUN AFTER RUNNING PROGRAM)\n",
    "# aw(node.unlock())"
   ]
  },
  {
   "cell_type": "code",
   "execution_count": null,
   "metadata": {},
   "outputs": [
    {
     "ename": "",
     "evalue": "",
     "output_type": "error",
     "traceback": [
      "\u001b[1;31mRunning cells with 'BMR' requires the ipykernel package.\n",
      "\u001b[1;31mRun the following command to install 'ipykernel' into the Python environment. \n",
      "\u001b[1;31mCommand: 'conda install -n BMR ipykernel --update-deps --force-reinstall'"
     ]
    }
   ],
   "source": [
    "#PART 1: Create potential field map from Geoseries environment\n",
    "from localnavigation import *\n",
    "\n",
    "#Define the size of the environement\n",
    "x_size = 45\n",
    "y_size = 20\n",
    "\n",
    "pf_map = potential_field_map(env_dilated,path[-1],(x_size,y_size), k_att=0.1, k_rep=1.0, rep_radius=5.0)"
   ]
  },
  {
   "cell_type": "code",
   "execution_count": null,
   "metadata": {},
   "outputs": [
    {
     "ename": "",
     "evalue": "",
     "output_type": "error",
     "traceback": [
      "\u001b[1;31mRunning cells with 'BMR' requires the ipykernel package.\n",
      "\u001b[1;31mRun the following command to install 'ipykernel' into the Python environment. \n",
      "\u001b[1;31mCommand: 'conda install -n BMR ipykernel --update-deps --force-reinstall'"
     ]
    }
   ],
   "source": [
    "#Plot the potential field obtained\n",
    "\n",
    "plot_potential_map_arrows_on_geoseries(pf_map, env_dilated, path[-1])\n",
    "\n",
    "plot_potential_map_arrows(pf_map, path[-1])"
   ]
  },
  {
   "cell_type": "code",
   "execution_count": null,
   "metadata": {},
   "outputs": [
    {
     "ename": "",
     "evalue": "",
     "output_type": "error",
     "traceback": [
      "\u001b[1;31mRunning cells with 'BMR' requires the ipykernel package.\n",
      "\u001b[1;31mRun the following command to install 'ipykernel' into the Python environment. \n",
      "\u001b[1;31mCommand: 'conda install -n BMR ipykernel --update-deps --force-reinstall'"
     ]
    }
   ],
   "source": [
    "#PART 2: Create a temporary potential field to add local obstacles\n",
    "\n",
    "#Data for trial, most of them will be coming from the robot/other parts\n",
    "robot_position = ( 14,15)\n",
    "prox_sensor_readings = [ 3000, 2500, 2000, 1110, 500, 7]\n",
    "robot_angle = 30\n",
    "robot_radius = 3\n",
    "delta_angle = 20 #delta angle of the sensors considering all together right and left ones\n",
    "map_size = (45,20)\n",
    "tol = 2000\n",
    "scale_factor = 1000 #to be found and scaled to the map dimension\n",
    "k_rep = 1\n",
    "\n",
    "temporary_map = potential_field_temp(robot_position, prox_sensor_readings, robot_radius, robot_angle, delta_angle,map_size,tol,scale_factor,k_rep=1)\n",
    "\n",
    "plot_potential_map_arrows(temporary_map, robot_position)"
   ]
  },
  {
   "cell_type": "code",
   "execution_count": null,
   "metadata": {},
   "outputs": [
    {
     "ename": "",
     "evalue": "",
     "output_type": "error",
     "traceback": [
      "\u001b[1;31mRunning cells with 'BMR' requires the ipykernel package.\n",
      "\u001b[1;31mRun the following command to install 'ipykernel' into the Python environment. \n",
      "\u001b[1;31mCommand: 'conda install -n BMR ipykernel --update-deps --force-reinstall'"
     ]
    }
   ],
   "source": [
    "#PART 3: Sum temporary potential map and global map, to find the overall potential\n",
    "\n",
    "overall_map = pf_map + temporary_map\n",
    "\n",
    "plot_potential_map_arrows(overall_map, path[-1])"
   ]
  },
  {
   "cell_type": "code",
   "execution_count": null,
   "metadata": {},
   "outputs": [
    {
     "ename": "",
     "evalue": "",
     "output_type": "error",
     "traceback": [
      "\u001b[1;31mRunning cells with 'BMR' requires the ipykernel package.\n",
      "\u001b[1;31mRun the following command to install 'ipykernel' into the Python environment. \n",
      "\u001b[1;31mCommand: 'conda install -n BMR ipykernel --update-deps --force-reinstall'"
     ]
    }
   ],
   "source": [
    " #PART 4: Using the map compute the next position to be in to be fed to the controller\n",
    "\n",
    "epsilon = 1\n",
    "step_size = 0.5 #to be chosen\n",
    "\n",
    "next_point= find_next_position(robot_position,step_size,epsilon,overall_map)\n",
    "\n",
    "print(next_point)"
   ]
  },
  {
   "cell_type": "code",
   "execution_count": null,
   "metadata": {},
   "outputs": [
    {
     "ename": "",
     "evalue": "",
     "output_type": "error",
     "traceback": [
      "\u001b[1;31mRunning cells with 'BMR' requires the ipykernel package.\n",
      "\u001b[1;31mRun the following command to install 'ipykernel' into the Python environment. \n",
      "\u001b[1;31mCommand: 'conda install -n BMR ipykernel --update-deps --force-reinstall'"
     ]
    }
   ],
   "source": [
    "#Repeat the global navigation tasks performed above by using some functions which will work with any data (hopefully)\n",
    "from globalnavigation import *\n",
    "\n",
    "#PART 1: CREATE THE ENVIRONMENT\n",
    "#Define the obstacles\n",
    "O1 = [(3,8),(5,5),(8,7),(6,10)]\n",
    "O2 = [(20,5),(23,7),(28,7),(24,2)]\n",
    "O3 = [(18,9),(16,12),(21,15),(23,11)]\n",
    "O4 = [(32,12),(34,15),(40,14),(37,11)]\n",
    "obstacles = [O1,O2,O3,O4]\n",
    "\n",
    "#Create the polygons\n",
    "polygons = create_polygons(obstacles)\n",
    "\n",
    "#Create and plot geoseries environment\n",
    "environment = GeoSeries(polygons)\n",
    "GeoSeries.plot(environment)\n",
    "\n",
    "#Dilate the obstacles\n",
    "robot_size = 1\n",
    "environment_dil = environment.buffer(robot_size/2, join_style = 2)\n",
    "GeoSeries.plot(environment_dil, color ='green')"
   ]
  },
  {
   "cell_type": "code",
   "execution_count": null,
   "metadata": {},
   "outputs": [
    {
     "ename": "",
     "evalue": "",
     "output_type": "error",
     "traceback": [
      "\u001b[1;31mRunning cells with 'BMR' requires the ipykernel package.\n",
      "\u001b[1;31mRun the following command to install 'ipykernel' into the Python environment. \n",
      "\u001b[1;31mCommand: 'conda install -n BMR ipykernel --update-deps --force-reinstall'"
     ]
    }
   ],
   "source": [
    " #PART 2: CREATE THE VISIBILITY GRAPH\n",
    "\n",
    "#Extract the corners of the dilated environment\n",
    "corners = extract_coordinates(environment_dil)\n",
    "\n",
    "#Convert them to points in visibility graph format\n",
    "corners_vg = convert_pol_to_vs(corners)\n",
    "\n",
    "#Build the graph\n",
    "graph = vg.VisGraph()\n",
    "graph.build(corners_vg)"
   ]
  },
  {
   "cell_type": "code",
   "execution_count": null,
   "metadata": {},
   "outputs": [
    {
     "ename": "",
     "evalue": "",
     "output_type": "error",
     "traceback": [
      "\u001b[1;31mRunning cells with 'BMR' requires the ipykernel package.\n",
      "\u001b[1;31mRun the following command to install 'ipykernel' into the Python environment. \n",
      "\u001b[1;31mCommand: 'conda install -n BMR ipykernel --update-deps --force-reinstall'"
     ]
    }
   ],
   "source": [
    "#PART 3: COMPUTE SHORTEST PATH\n",
    "\n",
    "#Define start and end and convertem to format suitable for the vg.graph \n",
    "start_position = (1,15)\n",
    "end_position = (38,3)\n",
    "\n",
    "start = vg.Point(start_position[0], start_position[1])\n",
    "end = vg.Point(end_position[0], end_position[1])\n",
    "\n",
    "#Find the shortest path-> gives back the set of corner through which one must pass\n",
    "shortest_path  = graph.shortest_path(start,end)\n",
    "\n",
    "print(shortest_path)\n",
    "\n",
    "#Convert the path found in shpaely points ( for Geoseris) and tuples (for interpolation)\n",
    "sp_gs, sp_tuples =convert_path_vs(shortest_path)\n",
    "\n",
    "#Recreate the environment for plotting: dilated polygons + path\n",
    "pol_dil = create_polygons(corners)\n",
    "pol_dil.append(LineString(sp_gs))\n",
    "geom_complete = pol_dil\n",
    "env_complete = GeoSeries(geom_complete)\n",
    "GeoSeries.plot(env_complete)"
   ]
  },
  {
   "cell_type": "code",
   "execution_count": null,
   "metadata": {},
   "outputs": [
    {
     "ename": "",
     "evalue": "",
     "output_type": "error",
     "traceback": [
      "\u001b[1;31mRunning cells with 'BMR' requires the ipykernel package.\n",
      "\u001b[1;31mRun the following command to install 'ipykernel' into the Python environment. \n",
      "\u001b[1;31mCommand: 'conda install -n BMR ipykernel --update-deps --force-reinstall'"
     ]
    }
   ],
   "source": [
    "#PART 4: SMOOTHEN THE PATH\n",
    "\n",
    "#Get a finer set of points for the path\n",
    "smooth_path_tuples = smoothen_path(np.array(sp_tuples))\n",
    "\n",
    "#Get back to gs format\n",
    "x = smooth_path_tuples[:,0]\n",
    "y = smooth_path_tuples[:,1]\n",
    "smooth_path = gpd.points_from_xy(x, y)\n",
    "\n",
    "\n",
    "new_path_gs = GeoSeries(smooth_path)\n",
    "ax1 = GeoSeries.plot(new_path_gs)\n",
    "ax2 = GeoSeries.plot(env_dilated,color='red')\n",
    "GeoSeries.plot(env,color='blue',ax=ax2)\n",
    "GeoSeries.plot(unsmoothed_path,color='black',ax=ax2)\n",
    "plt.plot(x_finer,y_finer_interp,1,color='purple')\n",
    "plt.show()"
   ]
  },
  {
   "cell_type": "code",
   "execution_count": null,
   "metadata": {},
   "outputs": [
    {
     "ename": "",
     "evalue": "",
     "output_type": "error",
     "traceback": [
      "\u001b[1;31mRunning cells with 'BMR' requires the ipykernel package.\n",
      "\u001b[1;31mRun the following command to install 'ipykernel' into the Python environment. \n",
      "\u001b[1;31mCommand: 'conda install -n BMR ipykernel --update-deps --force-reinstall'"
     ]
    }
   ],
   "source": [
    "# Control Loop Flags\n",
    "isFirstLoop = True\n",
    "isAtEndGoal = False\n",
    "isBlocked = False\n",
    "\n",
    "# Robot Path Variables\n",
    "path = path                                            # TODO: Path as array of waypoints (XY tuples)\n",
    "current_position = path[0]                             # TODO: Initial Location defined as current position of Thymio\n",
    "end_goal = path[-1]                                    # TODO: End goal is final position of planned path\n",
    "\n",
    "# Robot Pose Variables\n",
    "initial_orientation = 0.0                              # TODO: Orientation from Localization\n",
    "current_pose = [current_position, initial_orientation] # Define the current robot pose [x y theta]\n",
    "initial_pose = current_pose                            # Save initial pose of robot to robot object\n",
    "current_orientation = initial_orientation              # Current orientation theta of the robot             \n",
    "\n",
    "# PD Controller Gains\n",
    "kp = 0.5  # Proportional gain\n",
    "kd = 0.2  # Derivative gain\n",
    "\n",
    "# Looping Variable \n",
    "target_index = 1  # Index of next targeted position on path\n",
    "\n",
    "# Create Robot and Controller Objects\n",
    "Robot = thymio.Robot(node,client,initial_pose,current_pose)\n",
    "PD = control.PDController(kp,kd)\n",
    "\n",
    "while target_index < len(path):\n",
    "    # Increment along path of tuples\n",
    "    target_point = path[target_index]\n",
    "\n",
    "    # Check if there is an obstacle in front of us (if so, enter local navigation loop)\n",
    "    if Robot.isBlocked():\n",
    "        isBlocked = True\n",
    "        while isBlocked:\n",
    "            # Stop the Robot from moving\n",
    "            Robot.stop_motor()\n",
    "\n",
    "            # Create Potential Field Map from current known obstacles\n",
    "            pf_map = Navigation.create_potential_field_map(geo_env, goal_pos,map_size)\n",
    "\n",
    "            # Add obstacle to Potential Field from Distance sensor values\n",
    "            temporary_map = Navigation.potential_field_temp(robot_position, prox_sensor_readings, robot_radius, robot_angle, delta_angle,map_size,tol,scale_factor,k_rep=1)\n",
    "\n",
    "            overall_map = pf_map + temporary_map\n",
    "\n",
    "            Navigation.plot_potential_map_arrows(overall_map, path[-1])\n",
    "\n",
    "            epsilon = 1\n",
    "            step_size = 0.5 #to be chosen\n",
    "\n",
    "            next_point= Navigation.find_next_position(robot_position,step_size,epsilon,overall_map)\n",
    "\n",
    "            \n",
    "\n",
    "    # Calculate steering angle\n",
    "    Robot.calculate_steering_angle(target_point)\n",
    "\n",
    "    # Calculate distance error (for PD control)\n",
    "    PD.calc_cross_track_error(Robot.current_pose,path)\n",
    "\n",
    "    # PD control to correct current steering angle\n",
    "    correction = PD.pd_controller()\n",
    "\n",
    "    # Apply correction to steering angle\n",
    "    Robot.current_steering_angle += correction\n",
    "\n",
    "    # Convert steering angle to Thymio wheel speeds\n",
    "    left_speed, right_speed = Robot.convert_to_wheel_speeds(Robot.current_steering_angle, Robot.max_speed, Robot.wheelbase)\n",
    "\n",
    "    # Apply the speeds to the robot's wheels (replace this with your actual code)\n",
    "    Robot.set_motor_speed(left_speed,right_speed)\n",
    "\n",
    "    # Update current position (TODO: Replace this with actual vision or localization with Robot.update() )\n",
    "    Robot.current_pose[0:2] = path[target_index-1] \n",
    "    Robot.current_orientation += 0.1*2*np.pi # [TODO] Get Orienation\n",
    "\n",
    "    # Get current distance b/w robot and target point\n",
    "    distance_to_target = PD.distance_to_target(Robot.current_pose[0:2],target_point)\n",
    "\n",
    "    # Check if the robot reached the target point within a threshold\n",
    "    if PD.isAtTargetPoint(distance_to_target):\n",
    "        target_index += 1  # Move to the next target point\n",
    "\n",
    "    time.sleep(0.1)  # Time interval for control loop\n",
    "\n",
    "print(\"Reached end of trajectory.\")"
   ]
  },
  {
   "cell_type": "code",
   "execution_count": null,
   "metadata": {},
   "outputs": [
    {
     "ename": "",
     "evalue": "",
     "output_type": "error",
     "traceback": [
      "\u001b[1;31mRunning cells with 'BMR' requires the ipykernel package.\n",
      "\u001b[1;31mRun the following command to install 'ipykernel' into the Python environment. \n",
      "\u001b[1;31mCommand: 'conda install -n BMR ipykernel --update-deps --force-reinstall'"
     ]
    }
   ],
   "source": [
    "# # Constants\n",
    "# wheelbase = 0.112  # Distance between wheels in meters\n",
    "\n",
    "# # Control Loop Flags\n",
    "# isFirstLoop = True\n",
    "# isAtTarget = False\n",
    "# isAtEndGoal = False\n",
    "\n",
    "# # Initialize Robot Position and Waypoints\n",
    "# path = path                                              # Path as array of waypoints (XY tuples)\n",
    "# current_position = path[0]                                # Initial Location defined as current position of Thymio\n",
    "# endGoal = path[-1]                                       # End goal is final position of planned path\n",
    "# initialOrientation = 0.0                                 # TODO: Orientation from Localization\n",
    "# robotCurrentPose = [current_position, initialOrientation] # Define the current robot pose [x y theta]\n",
    "# robotMaxSpeed = 100                                       # Max speed of the robot (set to target speeds)\n",
    "# orientation = initialOrientation\n",
    "\n",
    "# # PD Controller Gains\n",
    "# kp = 0.5  # Proportional gain\n",
    "# kd = 0.2  # Derivative gain\n",
    "\n",
    "# # PD Controller Variables\n",
    "# last_error = 0\n",
    "\n",
    "# # Looping Variable\n",
    "# target_index = 1\n",
    "\n",
    "# while target_index < len(path):\n",
    "#     target_point = path[target_index]\n",
    "\n",
    "#     # Calculate steering angle\n",
    "#     steering_angle = thymio.calculate_steering_angle(current_position, target_point,orientation)\n",
    "\n",
    "#     # Calculate distance error (for P control) as norm of 2 points\n",
    "#     distance_error = math.sqrt((target_point[0] - current_position[0])**2 + (target_point[1] - current_position[1])**2)\n",
    "\n",
    "#     # PD control to adjust steering\n",
    "#     correction = control.pd_controller(distance_error,last_error,kp,kd)\n",
    "\n",
    "#     # Save Distance Error (For D control)\n",
    "#     last_error = distance_error\n",
    "\n",
    "#     # Apply correction to steering angle\n",
    "#     steering_angle += correction\n",
    "\n",
    "#     # Convert steering angle to Thymio wheel speeds\n",
    "#     left_speed, right_speed = thymio.convert_to_wheel_speeds(steering_angle, robotMaxSpeed, wheelbase)\n",
    "\n",
    "#     # Apply the speeds to the robot's wheels (replace this with your actual code)\n",
    "#     thymio.set_motor_speed(left_speed,right_speed,node)\n",
    "#     print(\"Left Wheel Speed:\", left_speed)\n",
    "#     print(\"Right Wheel Speed:\", right_speed)\n",
    "#     time.sleep(0.1)  # Time interval for control loop\n",
    "\n",
    "#     # Update current position (replace this with actual odometry or sensor data)\n",
    "#     current_position = path[target_index-1]\n",
    "\n",
    "#     # Check if the robot reached the target point within a threshold\n",
    "#     if distance_error < 0.1:\n",
    "#         target_index += 1  # Move to the next target point\n",
    "\n",
    "#     orientation += 0.1*2*np.pi # [TODO] Get Orienation\n",
    "\n",
    "# print(\"Reached end of trajectory.\")"
   ]
  }
 ],
 "metadata": {
  "kernelspec": {
   "display_name": "basicsmobilerobotics_env",
   "language": "python",
   "name": "python3"
  },
  "language_info": {
   "codemirror_mode": {
    "name": "ipython",
    "version": 3
   },
   "file_extension": ".py",
   "mimetype": "text/x-python",
   "name": "python",
   "nbconvert_exporter": "python",
   "pygments_lexer": "ipython3",
   "version": "3.11.6"
  }
 },
 "nbformat": 4,
 "nbformat_minor": 2
}
